{
  "nbformat": 4,
  "nbformat_minor": 0,
  "metadata": {
    "colab": {
      "name": "Train.ipynb",
      "provenance": [],
      "collapsed_sections": [
        "uATuMY2SFude",
        "9ZxRgtHJFlgh",
        "BsH6Uoq2Mshv",
        "pnfTXWrlMWnD",
        "egxT5d4oMmTf"
      ],
      "machine_shape": "hm"
    },
    "kernelspec": {
      "name": "python3",
      "display_name": "Python 3"
    },
    "language_info": {
      "name": "python"
    },
    "accelerator": "GPU",
    "gpuClass": "standard"
  },
  "cells": [
    {
      "cell_type": "markdown",
      "source": [
        "# Deeplabv3 Segmentaion"
      ],
      "metadata": {
        "id": "-XOMLIpkP5JH"
      }
    },
    {
      "cell_type": "markdown",
      "source": [
        "## Dataset\n",
        "gdown ID \n",
        "- Binary \n",
        "  - Resize 512x512, padding Original : 1EcAeCLDTlHXf9jzBiSTbqIHMSF6WZC03\n",
        "  - Augmentation Train : 1weHJqe9aGPH1I6bP1K7FzRglIcFfW1fH\n",
        "  - Augmentation Valid : 17xTOcDDZPlmZTz4kn1oTozjt_mdulrNz\n",
        "\n"
      ],
      "metadata": {
        "id": "DdqEkCr2QCmm"
      }
    },
    {
      "cell_type": "markdown",
      "source": [
        "## Original dataset download and train"
      ],
      "metadata": {
        "id": "oYDTyVegFZ5X"
      }
    },
    {
      "cell_type": "markdown",
      "source": [
        "### Git clone"
      ],
      "metadata": {
        "id": "uATuMY2SFude"
      }
    },
    {
      "cell_type": "code",
      "source": [
        "cd /content"
      ],
      "metadata": {
        "id": "HFJbbxJtLN-A"
      },
      "execution_count": null,
      "outputs": []
    },
    {
      "cell_type": "code",
      "execution_count": null,
      "metadata": {
        "id": "CU_Z13vwPlOF"
      },
      "outputs": [],
      "source": [
        "!git clone https://github.com/jcjang1/CodeEnter_DeepLabv3FineTuning.git"
      ]
    },
    {
      "cell_type": "markdown",
      "source": [
        "### Dataset download"
      ],
      "metadata": {
        "id": "9ZxRgtHJFlgh"
      }
    },
    {
      "cell_type": "code",
      "source": [
        "!gdown 1EcAeCLDTlHXf9jzBiSTbqIHMSF6WZC03"
      ],
      "metadata": {
        "id": "_OB5Z-CybwxR"
      },
      "execution_count": null,
      "outputs": []
    },
    {
      "cell_type": "code",
      "source": [
        "!unzip /content/512_padding_data_220722.zip"
      ],
      "metadata": {
        "id": "vN5ZZJ3Nb6Xp"
      },
      "execution_count": null,
      "outputs": []
    },
    {
      "cell_type": "markdown",
      "source": [
        "### Make folder\n",
        "- 원하는 데이터 class 번호만 바꿔주면서 작업\n",
        "- ex)\n",
        "\n",
        "```\n",
        "!mv {class 번호} data_set\n",
        "```\n",
        "\n"
      ],
      "metadata": {
        "id": "BnOHKe4HFqSo"
      }
    },
    {
      "cell_type": "code",
      "source": [
        "cd /content/make_data"
      ],
      "metadata": {
        "id": "M3IqM1mxByRP"
      },
      "execution_count": null,
      "outputs": []
    },
    {
      "cell_type": "code",
      "source": [
        "!mv 4 data_set\n",
        "!mv ./data_set/images ./data_set/Images\n",
        "!mv ./data_set/masks ./data_set/Masks"
      ],
      "metadata": {
        "id": "5V7rOYgNBkRG"
      },
      "execution_count": 4,
      "outputs": []
    },
    {
      "cell_type": "markdown",
      "source": [
        "### Trainning"
      ],
      "metadata": {
        "id": "hoLxKAvHFxxW"
      }
    },
    {
      "cell_type": "code",
      "source": [
        "cd /content/CodeEnter_DeepLabv3FineTuning"
      ],
      "metadata": {
        "id": "WAHJvqH8b9MK"
      },
      "execution_count": null,
      "outputs": []
    },
    {
      "cell_type": "code",
      "source": [
        "!python main.py --data-directory /content/make_data/data_set --exp_directory CFExp"
      ],
      "metadata": {
        "id": "3B13Z8NicObM"
      },
      "execution_count": null,
      "outputs": []
    },
    {
      "cell_type": "markdown",
      "source": [
        "## Augmentation dataset download and train"
      ],
      "metadata": {
        "id": "TdrV1xUYIiZt"
      }
    },
    {
      "cell_type": "markdown",
      "source": [
        "### Git clone"
      ],
      "metadata": {
        "id": "BsH6Uoq2Mshv"
      }
    },
    {
      "cell_type": "code",
      "source": [
        "cd /content"
      ],
      "metadata": {
        "colab": {
          "base_uri": "https://localhost:8080/"
        },
        "outputId": "410ae8e2-130a-47f1-d241-97438b7ab62c",
        "id": "57brmaNbMshv"
      },
      "execution_count": 1,
      "outputs": [
        {
          "output_type": "stream",
          "name": "stdout",
          "text": [
            "/content\n"
          ]
        }
      ]
    },
    {
      "cell_type": "code",
      "execution_count": null,
      "metadata": {
        "id": "FMNG6vQOMshv"
      },
      "outputs": [],
      "source": [
        "!git clone https://github.com/jcjang1/CodeEnter_DeepLabv3FineTuning.git"
      ]
    },
    {
      "cell_type": "markdown",
      "source": [
        "### Aug dataset download"
      ],
      "metadata": {
        "id": "pnfTXWrlMWnD"
      }
    },
    {
      "cell_type": "code",
      "source": [
        "!gdown 1weHJqe9aGPH1I6bP1K7FzRglIcFfW1fH\n",
        "!gdown 17xTOcDDZPlmZTz4kn1oTozjt_mdulrNz"
      ],
      "metadata": {
        "id": "EvobTupdIqZ9"
      },
      "execution_count": null,
      "outputs": []
    },
    {
      "cell_type": "markdown",
      "source": [
        "### Make folder\n",
        "- 원하는 데이터 class 번호만 바꿔주면서 작업\n",
        "- ex)\n",
        "\n",
        "```\n",
        "!mv /content/aug_data/{class번호} /content/aug_data/Train\n",
        "!mv /content/test_data/{class번호} /content/test_data/Test\n",
        "```\n",
        "\n"
      ],
      "metadata": {
        "id": "egxT5d4oMmTf"
      }
    },
    {
      "cell_type": "code",
      "source": [
        "!mkdir aug_data_set"
      ],
      "metadata": {
        "id": "2AhCyDSWJCM1"
      },
      "execution_count": 4,
      "outputs": []
    },
    {
      "cell_type": "code",
      "source": [
        "!unzip /content/bin_train_data.zip\n",
        "!unzip /content/bin_valid_data.zip"
      ],
      "metadata": {
        "id": "rtUsFEmiI1IP"
      },
      "execution_count": null,
      "outputs": []
    },
    {
      "cell_type": "code",
      "source": [
        "!mv /content/aug_data/4 /content/aug_data/Train\n",
        "!mv /content/test_data/4 /content/test_data/Test\n",
        "\n",
        "!mv /content/aug_data/Train/images /content/aug_data/Train/Images\n",
        "!mv /content/aug_data/Train/masks /content/aug_data/Train/Masks\n",
        "\n",
        "!mv /content/test_data/Test/images /content/test_data/Test/Images\n",
        "!mv /content/test_data/Test/masks /content/test_data/Test/Masks"
      ],
      "metadata": {
        "id": "-b6poL5QJuYu"
      },
      "execution_count": 6,
      "outputs": []
    },
    {
      "cell_type": "code",
      "source": [
        "!cp -r /content/aug_data/Train ./aug_data_set\n",
        "!cp -r /content/test_data/Test ./aug_data_set"
      ],
      "metadata": {
        "id": "IO3goO5PLDwi"
      },
      "execution_count": 7,
      "outputs": []
    },
    {
      "cell_type": "markdown",
      "source": [
        "### Trainning"
      ],
      "metadata": {
        "id": "kaCH5ASbMx3h"
      }
    },
    {
      "cell_type": "code",
      "source": [
        "cd /content/CodeEnter_DeepLabv3FineTuning"
      ],
      "metadata": {
        "id": "zxbEiV2gLoB2"
      },
      "execution_count": null,
      "outputs": []
    },
    {
      "cell_type": "code",
      "source": [
        "!python sep_main.py --data-directory /content/aug_data_set --exp_directory CFExp"
      ],
      "metadata": {
        "id": "MHQgTAiiLkUU"
      },
      "execution_count": null,
      "outputs": []
    },
    {
      "cell_type": "markdown",
      "source": [
        "## Inference"
      ],
      "metadata": {
        "id": "SpgLQGzlGa_K"
      }
    },
    {
      "cell_type": "code",
      "source": [
        "import torch\n",
        "import matplotlib.pyplot as plt\n",
        "import cv2\n",
        "import pandas as pd"
      ],
      "metadata": {
        "id": "puLlP8GaGdyA"
      },
      "execution_count": 10,
      "outputs": []
    },
    {
      "cell_type": "code",
      "source": [
        "# Load the trained model \n",
        "model = torch.load('./CFExp/weights.pt')\n",
        "# Set the model to evaluate mode\n",
        "model.eval()"
      ],
      "metadata": {
        "id": "1_XYY2NMGfMK"
      },
      "execution_count": null,
      "outputs": []
    },
    {
      "cell_type": "markdown",
      "source": [
        "### Visualizing"
      ],
      "metadata": {
        "id": "LZZYdiJ1F0bo"
      }
    },
    {
      "cell_type": "code",
      "source": [
        "df = pd.read_csv('./CFExp/log.csv')\n",
        "df[df['Test_loss'] == df['Test_loss'].min()]"
      ],
      "metadata": {
        "id": "VRnXEB9Dcrd8"
      },
      "execution_count": null,
      "outputs": []
    },
    {
      "cell_type": "code",
      "source": [
        "drop_loss = df.drop(columns=['Train_loss', 'Test_loss'], axis=1)\n",
        "loss_df = df[df.columns[:3]]"
      ],
      "metadata": {
        "id": "D35r7pb571wB"
      },
      "execution_count": 13,
      "outputs": []
    },
    {
      "cell_type": "code",
      "source": [
        "column_list = list(drop_loss.columns[1:])\n",
        "color_list = ['red', 'orange', 'black', 'green', 'blue', 'purple']"
      ],
      "metadata": {
        "id": "AeA-At955YHg"
      },
      "execution_count": 14,
      "outputs": []
    },
    {
      "cell_type": "markdown",
      "source": [
        "#### Show log graph"
      ],
      "metadata": {
        "id": "8lEP6b9o5idN"
      }
    },
    {
      "cell_type": "code",
      "source": [
        "fig = plt.figure(figsize=(16, 8))\n",
        "\n",
        "\n",
        "ax = fig.add_subplot(1, 2, 1)\n",
        "for color, column in zip(color_list, column_list):\n",
        "    ax.plot(drop_loss[column], color=color, label=column)\n",
        "ax.title.set_text(\"Score\")\n",
        "ax.legend()\n",
        "\n",
        "ax = fig.add_subplot(1, 2, 2)\n",
        "ax.plot(loss_df[\"Train_loss\"], color=\"red\", label=\"Train_loss\")\n",
        "ax.plot(loss_df[\"Test_loss\"], color=\"blue\", label=\"Test_loss\")\n",
        "ax.title.set_text(\"Loss\")\n",
        "ax.legend()\n",
        "\n",
        "plt.show()"
      ],
      "metadata": {
        "id": "aC7X3nHr5YFK"
      },
      "execution_count": null,
      "outputs": []
    },
    {
      "cell_type": "markdown",
      "source": [
        "#### Show bar plot"
      ],
      "metadata": {
        "id": "djPi5VADLwFA"
      }
    },
    {
      "cell_type": "code",
      "source": [
        "# Read  a sample image and mask from the data-set\n",
        "img = cv2.imread('/content/test_data/Test/Images/b_0171.jpg')\n",
        "img_plot = img.transpose(2,0,1).reshape(1,3,img.shape[0], img.shape[1])\n",
        "mask = cv2.imread('/content/test_data/Test/Masks/b_0171.jpg')\n",
        "with torch.no_grad():\n",
        "    a = model(torch.from_numpy(img_plot).type(torch.cuda.FloatTensor)/255)"
      ],
      "metadata": {
        "id": "MXuWi9dSGPco"
      },
      "execution_count": 24,
      "outputs": []
    },
    {
      "cell_type": "code",
      "source": [
        "plt.hist(a['out'].data.cpu().numpy().flatten())"
      ],
      "metadata": {
        "id": "apO_hJj9G_3K"
      },
      "execution_count": null,
      "outputs": []
    },
    {
      "cell_type": "markdown",
      "source": [
        "#### Show image"
      ],
      "metadata": {
        "id": "EDnPTj7oLrB8"
      }
    },
    {
      "cell_type": "code",
      "source": [
        "# Plot the input image, ground truth and the predicted output\n",
        "plt.figure(figsize=(10,10));\n",
        "plt.subplot(131);\n",
        "plt.imshow(img_plot[0,...].transpose(1,2,0));\n",
        "plt.title('Image')\n",
        "plt.axis('off');\n",
        "plt.subplot(132);\n",
        "plt.imshow(mask);\n",
        "plt.title('Ground Truth')\n",
        "plt.axis('off');\n",
        "plt.subplot(133);\n",
        "plt.imshow(a['out'].cpu().detach().numpy()[0][0]>0.2);\n",
        "plt.title('Segmentation Output')\n",
        "plt.axis('off');\n",
        "# plt.savefig('./CFExp/SegmentationOutput.png',bbox_inches='tight')"
      ],
      "metadata": {
        "id": "n3wwz8ZrILrQ"
      },
      "execution_count": null,
      "outputs": []
    },
    {
      "cell_type": "code",
      "source": [
        "plt.imshow(img)\n",
        "plt.imshow(a['out'].cpu().detach().numpy()[0][0]>0.2, alpha=0.4);\n",
        "plt.title('Prediction')\n",
        "plt.show()"
      ],
      "metadata": {
        "id": "LzW9ovoOIcBG"
      },
      "execution_count": null,
      "outputs": []
    }
  ]
}